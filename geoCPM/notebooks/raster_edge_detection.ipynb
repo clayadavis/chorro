{
 "metadata": {
  "name": "raster_edge_detection"
 },
 "nbformat": 3,
 "nbformat_minor": 0,
 "worksheets": [
  {
   "cells": [
    {
     "cell_type": "markdown",
     "metadata": {},
     "source": [
      "# Raster Edge Detection\n",
      "## This code rasterizes the shapes, then generates a weighted graph of border length shares between regions."
     ]
    },
    {
     "cell_type": "code",
     "collapsed": false,
     "input": [
      "from numba.decorators import jit, autojit\n",
      "from numba import float64, i4\n",
      "import pandas as pd\n",
      "import matplotlib as mpl\n",
      "import matplotlib.pyplot as plt\n",
      "import itertools\n",
      "import time \n",
      "import random\n",
      "from PIL import Image, ImageDraw\n",
      "import networkx as nx\n",
      "import collections\n",
      "\n",
      "import sys\n",
      "sys.path.insert(0,'..')\n",
      "import shapefile #This is a modified version. Patches will be submitted upstream.\n",
      "print \"Shapefile: '%s'.\" % shapefile.__file__"
     ],
     "language": "python",
     "metadata": {},
     "outputs": [
      {
       "output_type": "stream",
       "stream": "stdout",
       "text": [
        "Shapefile: '../shapefile.pyc'.\n"
       ]
      }
     ],
     "prompt_number": 1
    },
    {
     "cell_type": "code",
     "collapsed": false,
     "input": [
      "sf = shapefile.Reader(\"../static/data/indiana/Census_Historical_MCD_IN\", quiet=True)\n",
      "df = sf.shapeRecordDataFrame()"
     ],
     "language": "python",
     "metadata": {},
     "outputs": [],
     "prompt_number": 2
    },
    {
     "cell_type": "markdown",
     "metadata": {},
     "source": [
      "### First we need to rasterize the shapes, giving each a unique color that maps to its id."
     ]
    },
    {
     "cell_type": "code",
     "collapsed": false,
     "input": [
      "def rescale(pts, x_min=0.0, y_min=0.0, x_ar=1.0, y_ar=1.0):\n",
      "    \"Expects an Nx2 input array of points.\"\n",
      "    x_col = np.round((pts[:,0] - x_min)*x_ar)\n",
      "    y_col = np.round((pts[:,1] - y_min)*y_ar)\n",
      "    return np.vstack((x_col, y_col)).T\n",
      "\n",
      "def base_256(n):\n",
      "    ni = int(n)\n",
      "    return (ni//65536, ni//256, ni%256)\n",
      "\n",
      "def rgb_to_index(arr):\n",
      "    return arr[:,:,0]*65536 + arr[:,:,1]*256 + arr[:,:,2]"
     ],
     "language": "python",
     "metadata": {},
     "outputs": [],
     "prompt_number": 3
    },
    {
     "cell_type": "code",
     "collapsed": false,
     "input": [
      "#rescale(np.array(df['POINTS'][0]), x_min, y_min, x_ar, y_ar)"
     ],
     "language": "python",
     "metadata": {},
     "outputs": [],
     "prompt_number": 4
    },
    {
     "cell_type": "code",
     "collapsed": false,
     "input": [
      "def draw_map(df):\n",
      "    x_vals = [df['shape', 'bbox'][x][0:3:2] for x in df.index]\n",
      "    y_vals = [df['shape', 'bbox'][x][1:4:2] for x in df.index]\n",
      "    x_max = max(max(x_vals))\n",
      "    x_min = min(min(x_vals))\n",
      "    y_max = max(max(y_vals))\n",
      "    y_min = min(min(y_vals))\n",
      "    aspect_ratio = (x_max-x_min)/(y_max-y_min)\n",
      "    x_dim = 1000\n",
      "    y_dim = int(round(x_dim/aspect_ratio))\n",
      "    (x_ar, y_ar) = (x_dim/(x_max-x_min), y_dim/(y_max-y_min))\n",
      "    print (x_ar, y_ar)\n",
      "    im = Image.new('RGB', (x_dim, y_dim), (255, 255, 255)) # Create a blank image\n",
      "    draw = ImageDraw.Draw(im)\n",
      "    for idx in range(len(df)):\n",
      "        rescaled_poly = rescale(np.array(df['shape', 'points'][idx]), x_min, y_min, x_ar, y_ar)\n",
      "        draw.polygon(rescaled_poly.flatten().tolist(), fill=base_256(idx))\n",
      "        #draw.polygon(rescaled_poly.flatten().tolist(), fill=\"magenta\", outline=\"black\")\n",
      "    return im"
     ],
     "language": "python",
     "metadata": {},
     "outputs": [],
     "prompt_number": 5
    },
    {
     "cell_type": "code",
     "collapsed": false,
     "input": [
      "tic = time.time()\n",
      "im = draw_map(df)\n",
      "im = im.transpose(Image.FLIP_TOP_BOTTOM)\n",
      "print \"Drawing took %0.3f seconds.\" % (time.time() - tic)\n",
      "#im.show()\n",
      "plt.imshow(im)"
     ],
     "language": "python",
     "metadata": {},
     "outputs": [
      {
       "output_type": "stream",
       "stream": "stdout",
       "text": [
        "(0.0035701995923460837, 0.003569794278466088)\n",
        "Drawing took 0.417 seconds."
       ]
      },
      {
       "output_type": "stream",
       "stream": "stdout",
       "text": [
        "\n"
       ]
      },
      {
       "output_type": "pyout",
       "prompt_number": 6,
       "text": [
        "<matplotlib.image.AxesImage at 0x5c202d0>"
       ]
      },
      {
       "output_type": "display_data",
       "png": "[encoded data removed]"
      }
     ],
     "prompt_number": 6
    },
    {
     "cell_type": "code",
     "collapsed": false,
     "input": [
      "print np.array(im).shape\n",
      "grid = rgb_to_index(np.array(im))\n",
      "print grid.shape"
     ],
     "language": "python",
     "metadata": {},
     "outputs": [
      {
       "output_type": "stream",
       "stream": "stdout",
       "text": [
        "(1587, 1000, 3)\n",
        "(1587, 1000)\n"
       ]
      }
     ],
     "prompt_number": 7
    },
    {
     "cell_type": "markdown",
     "metadata": {},
     "source": [
      "### Now let's make the neighbor graph.\n",
      "\n",
      "### Let's start out with a non-compiled version of these codes:"
     ]
    },
    {
     "cell_type": "code",
     "collapsed": false,
     "input": [
      "def get_neighbor_weights(grid, N):\n",
      "    weights = collections.defaultdict(int)\n",
      "    for r in xrange(grid.shape[0]):\n",
      "        for c in xrange(grid.shape[1]):\n",
      "            #my_id = grid[r,c]\n",
      "            to_check = filter(lambda x: x[0]>=0 and x[0]<grid.shape[0] \n",
      "                                    and x[1]>=0 and x[1]<grid.shape[1], \n",
      "                                [(r-1, c), (r+1, c), (r, c-1), (r,c+1)])\n",
      "            for (rr, cc) in to_check:\n",
      "                if grid[rr,cc] != grid[r,c] and grid[rr, cc] != 16777215 and grid[r, c] != 16777215:\n",
      "                    weights[grid[rr,cc], grid[r,c]] += 1\n",
      "    return weights\n",
      "\n",
      "def make_neighbor_graph(weights):\n",
      "    G = nx.Graph()\n",
      "    #graph_label = lambda x: \"%s_%s\" % (df['record', 'COUNTY'][x], df['record', 'MCD'][x])\n",
      "    graph_label = lambda x: int(df['record', 'COUSUBFP'][x])\n",
      "    #graph_label = lambda x: x\n",
      "    for (a,b) in weights.keys():\n",
      "        if a < b:\n",
      "            w = weights[a,b]+weights[b,a]\n",
      "            if w > 0:\n",
      "                G.add_edge(graph_label(a), graph_label(b), weight=w)\n",
      "    return G"
     ],
     "language": "python",
     "metadata": {},
     "outputs": [],
     "prompt_number": 8
    },
    {
     "cell_type": "code",
     "collapsed": false,
     "input": [
      "tic = time.time()\n",
      "nw = get_neighbor_weights(grid, len(df))\n",
      "print \"Getting neighbor weights took %0.3f seconds.\" % (time.time() - tic)"
     ],
     "language": "python",
     "metadata": {},
     "outputs": [
      {
       "output_type": "stream",
       "stream": "stdout",
       "text": [
        "Getting neighbor weights took 14.115 seconds.\n"
       ]
      }
     ],
     "prompt_number": 10
    },
    {
     "cell_type": "code",
     "collapsed": true,
     "input": [
      "tic = time.time()\n",
      "G = make_neighbor_graph(nw)\n",
      "print \"Making neighbor graph took %0.3f seconds.\" % (time.time() - tic)"
     ],
     "language": "python",
     "metadata": {},
     "outputs": [
      {
       "output_type": "stream",
       "stream": "stdout",
       "text": [
        "Making neighbor graph took 0.109 seconds.\n"
       ]
      }
     ],
     "prompt_number": 11
    },
    {
     "cell_type": "code",
     "collapsed": false,
     "input": [
      "G[31558]"
     ],
     "language": "python",
     "metadata": {},
     "outputs": [
      {
       "output_type": "pyout",
       "prompt_number": 13,
       "text": [
        "{13222: {'weight': 42}, 13528: {'weight': 40}, 58734: {'weight': 66}}"
       ]
      }
     ],
     "prompt_number": 13
    },
    {
     "cell_type": "heading",
     "level": 3,
     "metadata": {},
     "source": [
      "Now we'll compare to a compiled version."
     ]
    },
    {
     "cell_type": "code",
     "collapsed": false,
     "input": [
      "@jit(argtypes=[i4[:,:], i4], restype=i4[:,:])\n",
      "def jit_get_neighbor_weights(grid, N):\n",
      "    weights = np.zeros((N, N), dtype=np.uint32)\n",
      "    for r in xrange(grid.shape[0]):\n",
      "        for c in xrange(grid.shape[1]):\n",
      "            if grid[r, c] != 16777215:\n",
      "                my_id = grid[r,c]\n",
      "                if r-1 >= 0             and grid[r-1,c] != my_id and grid[r-1, c] != 16777215:\n",
      "                    weights[grid[r-1,c], my_id] += 1\n",
      "                    \n",
      "                if r+1 < grid.shape[0]  and grid[r+1,c] != my_id and grid[r+1, c] != 16777215:\n",
      "                    weights[grid[r+1,c], my_id] += 1\n",
      "                    \n",
      "                if c-1 >= 0             and grid[r,c-1] != my_id and grid[r, c-1] != 16777215:\n",
      "                    weights[grid[r,c-1], my_id] += 1\n",
      "                    \n",
      "                if c+1 < grid.shape[1]  and grid[r,c+1] != my_id and grid[r, c+1] != 16777215:\n",
      "                    weights[grid[r,c+1], my_id] += 1\n",
      "    return weights\n",
      "\n",
      "def jit_make_neighbor_graph(weights):\n",
      "    G = nx.Graph()\n",
      "    #graph_label = lambda x: \"%s_%s\" % (df['record', 'COUNTY'][x], df['record', 'MCD'][x])\n",
      "    graph_label = lambda x: int(df['record', 'COUSUBFP'][x])\n",
      "    #graph_label = lambda x: x\n",
      "    for (a, b) in zip(*weights.nonzero()):\n",
      "        w = weights[a,b]+weights[b,a]\n",
      "        if w > 0:\n",
      "            G.add_edge(graph_label(a), graph_label(b), weight=w)\n",
      "    return G"
     ],
     "language": "python",
     "metadata": {},
     "outputs": [],
     "prompt_number": 12
    },
    {
     "cell_type": "code",
     "collapsed": false,
     "input": [
      "tic = time.time()\n",
      "nw = jit_get_neighbor_weights(grid, len(df))\n",
      "print \"Getting neighbor weights took %0.3f seconds.\" % (time.time() - tic)"
     ],
     "language": "python",
     "metadata": {},
     "outputs": [
      {
       "output_type": "stream",
       "stream": "stdout",
       "text": [
        "Getting neighbor weights took 0.014 seconds.\n"
       ]
      }
     ],
     "prompt_number": 14
    },
    {
     "cell_type": "code",
     "collapsed": false,
     "input": [
      "tic = time.time()\n",
      "G = jit_make_neighbor_graph(nw)\n",
      "#This works, but doesn't look up the labels.\n",
      "#G = nx.from_numpy_matrix(nw) \n",
      "print \"Making neighbor graph took %0.3f seconds.\" % (time.time() - tic)"
     ],
     "language": "python",
     "metadata": {},
     "outputs": [
      {
       "output_type": "stream",
       "stream": "stdout",
       "text": [
        "Making neighbor graph took 0.306 seconds.\n"
       ]
      }
     ],
     "prompt_number": 15
    },
    {
     "cell_type": "code",
     "collapsed": false,
     "input": [
      "G[31558]"
     ],
     "language": "python",
     "metadata": {},
     "outputs": [
      {
       "output_type": "pyout",
       "prompt_number": 16,
       "text": [
        "{13222: {'weight': 42}, 13528: {'weight': 40}, 58734: {'weight': 66}}"
       ]
      }
     ],
     "prompt_number": 16
    },
    {
     "cell_type": "heading",
     "level": 3,
     "metadata": {},
     "source": [
      "So for 1000x1500 image, we went from 14s to 0.3s for a 50x speedup!"
     ]
    },
    {
     "cell_type": "code",
     "collapsed": false,
     "input": [
      "degree_sequence=sorted(nx.degree(G).values(),reverse=True) # degree sequence\n",
      "#print \"Degree sequence\", degree_sequence\n",
      "dmax=max(degree_sequence)\n",
      "\n",
      "plt.plot(degree_sequence,'b-',marker='o')\n",
      "plt.title(\"Degree rank plot\")\n",
      "plt.ylabel(\"degree\")\n",
      "plt.xlabel(\"rank\")"
     ],
     "language": "python",
     "metadata": {},
     "outputs": [
      {
       "output_type": "pyout",
       "prompt_number": 17,
       "text": [
        "<matplotlib.text.Text at 0x5c27790>"
       ]
      },
      {
       "output_type": "display_data",
       "png": "[encoded data removed]"
      }
     ],
     "prompt_number": 17
    },
    {
     "cell_type": "code",
     "collapsed": false,
     "input": [],
     "language": "python",
     "metadata": {},
     "outputs": []
    }
   ],
   "metadata": {}
  }
 ]
}