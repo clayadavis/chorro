{
 "metadata": {
  "name": "test_drive"
 },
 "nbformat": 3,
 "nbformat_minor": 0,
 "worksheets": [
  {
   "cells": [
    {
     "cell_type": "heading",
     "level": 1,
     "metadata": {},
     "source": [
      "Test Drive"
     ]
    },
    {
     "cell_type": "markdown",
     "metadata": {},
     "source": [
      "### This is to make sure we can import the simulation core and subclass it as necessary. Making the generator for the webapp is just one step from this."
     ]
    },
    {
     "cell_type": "code",
     "collapsed": false,
     "input": [
      "import time\n",
      "from numba.decorators import jit, autojit\n",
      "from numba import float64, i4, i1\n",
      "import pandas as pd\n",
      "import networkx as nx\n",
      "import numpy as np\n",
      "import matplotlib as mpl\n",
      "import matplotlib.pyplot as plt"
     ],
     "language": "python",
     "metadata": {},
     "outputs": [],
     "prompt_number": 1
    },
    {
     "cell_type": "code",
     "collapsed": false,
     "input": [
      "import sys\n",
      "sys.path.insert(0,'..')\n",
      "import geocpm_core as gcpm"
     ],
     "language": "python",
     "metadata": {},
     "outputs": [],
     "prompt_number": 2
    },
    {
     "cell_type": "code",
     "collapsed": false,
     "input": [
      "data_frame = gcpm.load_shapefile(\"../static/data/indiana/Census_Historical_MCD_IN\")\n",
      "neighbor_graph = gcpm.make_graph(data_frame)\n",
      "\n",
      "sim = gcpm.Simulation(neighbor_graph, data_frame, 9, lambdas=(5,1))\n",
      "print \"Initial condition:\"\n",
      "sim.draw()"
     ],
     "language": "python",
     "metadata": {},
     "outputs": [
      {
       "output_type": "stream",
       "stream": "stdout",
       "text": [
        "Drawing took 0.424 seconds.\n",
        "Getting neighbor weights took 0.014 seconds."
       ]
      },
      {
       "output_type": "stream",
       "stream": "stdout",
       "text": [
        "\n",
        "Making neighbor graph took 0.100 seconds."
       ]
      },
      {
       "output_type": "stream",
       "stream": "stdout",
       "text": [
        "\n",
        "Seeding took 5637 iterations."
       ]
      },
      {
       "output_type": "stream",
       "stream": "stdout",
       "text": [
        "\n",
        "Initial condition:\n"
       ]
      },
      {
       "output_type": "display_data",
       "png": "[encoded data removed]"
      }
     ],
     "prompt_number": 3
    },
    {
     "cell_type": "code",
     "collapsed": false,
     "input": [
      "sim.T = 275\n",
      "N = 50\n",
      "tic = time.time()\n",
      "#profile.run('sim.run(%i)'%N)\n",
      "sim.run(N, debug=1)\n",
      "\n",
      "print \"%i steps took %0.3f seconds and accepted %i changes:\" % (N, time.time() - tic, sum(sim.changes_accepted[-N:]))\n",
      "if N > 1:\n",
      "    print sim.changes_accepted[-N:]"
     ],
     "language": "python",
     "metadata": {},
     "outputs": [
      {
       "output_type": "stream",
       "stream": "stdout",
       "text": [
        "MCS\tPop\tCompact\ttotal\n",
        "001\t1x415310\t5x16652\t498570"
       ]
      },
      {
       "output_type": "stream",
       "stream": "stdout",
       "text": [
        "\n",
        "002\t1x241592\t5x17898\t331082"
       ]
      },
      {
       "output_type": "stream",
       "stream": "stdout",
       "text": [
        "\n",
        "003\t1x103979\t5x19170\t199829"
       ]
      },
      {
       "output_type": "stream",
       "stream": "stdout",
       "text": [
        "\n",
        "004\t1x78027\t5x19100\t173527"
       ]
      },
      {
       "output_type": "stream",
       "stream": "stdout",
       "text": [
        "\n",
        "005\t1x47038\t5x18960\t141838"
       ]
      },
      {
       "output_type": "stream",
       "stream": "stdout",
       "text": [
        "\n",
        "006\t1x19540\t5x19786\t118470"
       ]
      },
      {
       "output_type": "stream",
       "stream": "stdout",
       "text": [
        "\n",
        "007\t1x17673\t5x19084\t113093"
       ]
      },
      {
       "output_type": "stream",
       "stream": "stdout",
       "text": [
        "\n",
        "008\t1x10786\t5x20454\t113056"
       ]
      },
      {
       "output_type": "stream",
       "stream": "stdout",
       "text": [
        "\n",
        "009\t1x7721\t5x17988\t97661"
       ]
      },
      {
       "output_type": "stream",
       "stream": "stdout",
       "text": [
        "\n",
        "010\t1x6829\t5x17906\t96359"
       ]
      },
      {
       "output_type": "stream",
       "stream": "stdout",
       "text": [
        "\n",
        "011\t1x5880\t5x17350\t92630"
       ]
      },
      {
       "output_type": "stream",
       "stream": "stdout",
       "text": [
        "\n",
        "012\t1x2750\t5x17062\t88060"
       ]
      },
      {
       "output_type": "stream",
       "stream": "stdout",
       "text": [
        "\n",
        "013\t1x3356\t5x17016\t88436"
       ]
      },
      {
       "output_type": "stream",
       "stream": "stdout",
       "text": [
        "\n",
        "014\t1x3827\t5x16954\t88597"
       ]
      },
      {
       "output_type": "stream",
       "stream": "stdout",
       "text": [
        "\n",
        "015\t1x4385\t5x17294\t90855"
       ]
      },
      {
       "output_type": "stream",
       "stream": "stdout",
       "text": [
        "\n",
        "016\t1x4544\t5x18554\t97314"
       ]
      },
      {
       "output_type": "stream",
       "stream": "stdout",
       "text": [
        "\n",
        "017\t1x2085\t5x17954\t91855"
       ]
      },
      {
       "output_type": "stream",
       "stream": "stdout",
       "text": [
        "\n",
        "018\t1x3395\t5x17548\t91135"
       ]
      },
      {
       "output_type": "stream",
       "stream": "stdout",
       "text": [
        "\n",
        "019\t1x1617\t5x18300\t93117"
       ]
      },
      {
       "output_type": "stream",
       "stream": "stdout",
       "text": [
        "\n",
        "020\t1x2306\t5x19304\t98826"
       ]
      },
      {
       "output_type": "stream",
       "stream": "stdout",
       "text": [
        "\n",
        "021\t1x3160\t5x19552\t100920"
       ]
      },
      {
       "output_type": "stream",
       "stream": "stdout",
       "text": [
        "\n",
        "022\t1x4321\t5x18952\t99081"
       ]
      },
      {
       "output_type": "stream",
       "stream": "stdout",
       "text": [
        "\n",
        "023\t1x4008\t5x18588\t96948"
       ]
      },
      {
       "output_type": "stream",
       "stream": "stdout",
       "text": [
        "\n",
        "024\t1x3313\t5x18888\t97753"
       ]
      },
      {
       "output_type": "stream",
       "stream": "stdout",
       "text": [
        "\n",
        "025\t1x2935\t5x18502\t95445"
       ]
      },
      {
       "output_type": "stream",
       "stream": "stdout",
       "text": [
        "\n",
        "026\t1x2120\t5x17718\t90710"
       ]
      },
      {
       "output_type": "stream",
       "stream": "stdout",
       "text": [
        "\n",
        "027\t1x1691\t5x16914\t86261"
       ]
      },
      {
       "output_type": "stream",
       "stream": "stdout",
       "text": [
        "\n",
        "028\t1x1463\t5x16844\t85683"
       ]
      },
      {
       "output_type": "stream",
       "stream": "stdout",
       "text": [
        "\n",
        "029\t1x968\t5x17432\t88128"
       ]
      },
      {
       "output_type": "stream",
       "stream": "stdout",
       "text": [
        "\n",
        "030\t1x1297\t5x17478\t88687"
       ]
      },
      {
       "output_type": "stream",
       "stream": "stdout",
       "text": [
        "\n",
        "031\t1x1786\t5x18432\t93946"
       ]
      },
      {
       "output_type": "stream",
       "stream": "stdout",
       "text": [
        "\n",
        "032\t1x2443\t5x17734\t91113"
       ]
      },
      {
       "output_type": "stream",
       "stream": "stdout",
       "text": [
        "\n",
        "033\t1x1815\t5x17838\t91005"
       ]
      },
      {
       "output_type": "stream",
       "stream": "stdout",
       "text": [
        "\n",
        "034\t1x2942\t5x17560\t90742"
       ]
      },
      {
       "output_type": "stream",
       "stream": "stdout",
       "text": [
        "\n",
        "035\t1x2664\t5x18586\t95594"
       ]
      },
      {
       "output_type": "stream",
       "stream": "stdout",
       "text": [
        "\n",
        "036\t1x2115\t5x18400\t94115"
       ]
      },
      {
       "output_type": "stream",
       "stream": "stdout",
       "text": [
        "\n",
        "037\t1x2355\t5x19070\t97705"
       ]
      },
      {
       "output_type": "stream",
       "stream": "stdout",
       "text": [
        "\n",
        "038\t1x2417\t5x18144\t93137"
       ]
      },
      {
       "output_type": "stream",
       "stream": "stdout",
       "text": [
        "\n",
        "039\t1x2315\t5x18486\t94745"
       ]
      },
      {
       "output_type": "stream",
       "stream": "stdout",
       "text": [
        "\n",
        "040\t1x2380\t5x17726\t91010"
       ]
      },
      {
       "output_type": "stream",
       "stream": "stdout",
       "text": [
        "\n",
        "041\t1x1118\t5x17758\t89908"
       ]
      },
      {
       "output_type": "stream",
       "stream": "stdout",
       "text": [
        "\n",
        "042\t1x2915\t5x17704\t91435"
       ]
      },
      {
       "output_type": "stream",
       "stream": "stdout",
       "text": [
        "\n",
        "043\t1x1704\t5x17572\t89564"
       ]
      },
      {
       "output_type": "stream",
       "stream": "stdout",
       "text": [
        "\n",
        "044\t1x2314\t5x17422\t89424"
       ]
      },
      {
       "output_type": "stream",
       "stream": "stdout",
       "text": [
        "\n",
        "045\t1x2579\t5x17328\t89219"
       ]
      },
      {
       "output_type": "stream",
       "stream": "stdout",
       "text": [
        "\n",
        "046\t1x2681\t5x17898\t92171"
       ]
      },
      {
       "output_type": "stream",
       "stream": "stdout",
       "text": [
        "\n",
        "047\t1x2965\t5x16538\t85655"
       ]
      },
      {
       "output_type": "stream",
       "stream": "stdout",
       "text": [
        "\n",
        "048\t1x2615\t5x17604\t90635"
       ]
      },
      {
       "output_type": "stream",
       "stream": "stdout",
       "text": [
        "\n",
        "049\t1x3655\t5x17820\t92755"
       ]
      },
      {
       "output_type": "stream",
       "stream": "stdout",
       "text": [
        "\n",
        "050\t1x3388\t5x17940\t93088"
       ]
      },
      {
       "output_type": "stream",
       "stream": "stdout",
       "text": [
        "\n",
        "50 steps took 8.655 seconds and accepted 3746 changes:\n",
        "[118, 134, 129, 119, 121, 105, 94, 99, 87, 69, 77, 55, 58, 54, 67, 78, 70, 71, 66, 75, 77, 78, 90, 71, 68, 66, 60, 57, 53, 60, 66, 69, 67, 61, 67, 78, 60, 88, 63, 65, 52, 61, 60, 62, 60, 72, 55, 61, 74, 79]\n"
       ]
      }
     ],
     "prompt_number": 4
    },
    {
     "cell_type": "code",
     "collapsed": false,
     "input": [
      "print \"Simulation after %i steps:\" % sim.mcs\n",
      "sim.draw()"
     ],
     "language": "python",
     "metadata": {},
     "outputs": [
      {
       "output_type": "stream",
       "stream": "stdout",
       "text": [
        "Simulation after 50 steps:\n"
       ]
      },
      {
       "output_type": "display_data",
       "png": "[encoded data removed]"
      }
     ],
     "prompt_number": 5
    },
    {
     "cell_type": "markdown",
     "metadata": {},
     "source": [
      "### That was just a sanity check to make sure everything works well. In reality, we want to change T over time via *simulated annealing*."
     ]
    },
    {
     "cell_type": "code",
     "collapsed": false,
     "input": [
      "num_steps, num_per_step = 250, 25\n",
      "T_i, T_f = 250, 25\n",
      "decay_constant = math.log(T_i/float(T_f))/num_steps\n",
      "expo_decay = lambda t: T_i * math.exp(-decay_constant * t)\n",
      "lin_decay = lambda t: - t*(T_i - T_f)/float(num_steps) + T_i\n",
      "annealing_schedule = map(lin_decay, range(0, num_steps, num_per_step))\n",
      "print \"Annealing schedule:\", annealing_schedule \n",
      "    \n",
      "for T in annealing_schedule:\n",
      "    steps_to_run = min(num_per_step, num_steps - sim.mcs)\n",
      "    sim.T = T\n",
      "    print \"T:\", sim.T\n",
      "    sim.run(steps_to_run)"
     ],
     "language": "python",
     "metadata": {},
     "outputs": [
      {
       "output_type": "stream",
       "stream": "stdout",
       "text": [
        "Annealing schedule: [250.0, 227.5, 205.0, 182.5, 160.0, 137.5, 115.0, 92.5, 70.0, 47.5]\n",
        "T: 250.0\n",
        "T:"
       ]
      },
      {
       "output_type": "stream",
       "stream": "stdout",
       "text": [
        " 227.5\n",
        "T:"
       ]
      },
      {
       "output_type": "stream",
       "stream": "stdout",
       "text": [
        " 205.0\n",
        "T:"
       ]
      },
      {
       "output_type": "stream",
       "stream": "stdout",
       "text": [
        " 182.5\n",
        "T:"
       ]
      },
      {
       "output_type": "stream",
       "stream": "stdout",
       "text": [
        " 160.0\n",
        "T:"
       ]
      },
      {
       "output_type": "stream",
       "stream": "stdout",
       "text": [
        " 137.5\n",
        "T:"
       ]
      },
      {
       "output_type": "stream",
       "stream": "stdout",
       "text": [
        " 115.0\n",
        "T:"
       ]
      },
      {
       "output_type": "stream",
       "stream": "stdout",
       "text": [
        " 92.5\n",
        "T:"
       ]
      },
      {
       "output_type": "stream",
       "stream": "stdout",
       "text": [
        " 70.0\n",
        "T: 47.5\n"
       ]
      }
     ],
     "prompt_number": 6
    },
    {
     "cell_type": "code",
     "collapsed": false,
     "input": [
      "print \"Simulation after %i steps:\" % sim.mcs\n",
      "sim.draw()"
     ],
     "language": "python",
     "metadata": {},
     "outputs": [
      {
       "output_type": "stream",
       "stream": "stdout",
       "text": [
        "Simulation after 250 steps:\n"
       ]
      },
      {
       "output_type": "display_data",
       "png": "[encoded data removed]"
      }
     ],
     "prompt_number": 7
    },
    {
     "cell_type": "code",
     "collapsed": false,
     "input": [],
     "language": "python",
     "metadata": {},
     "outputs": [],
     "prompt_number": 7
    }
   ],
   "metadata": {}
  }
 ]
}