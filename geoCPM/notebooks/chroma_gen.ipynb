{
 "metadata": {
  "name": "chroma_gen"
 },
 "nbformat": 3,
 "nbformat_minor": 0,
 "worksheets": [
  {
   "cells": [
    {
     "cell_type": "heading",
     "level": 1,
     "metadata": {},
     "source": [
      "Chroma Gen"
     ]
    },
    {
     "cell_type": "heading",
     "level": 3,
     "metadata": {},
     "source": [
      "This is a colormap function which generates, for n in range(N), a maximally-spaced mapping in hsv space."
     ]
    },
    {
     "cell_type": "code",
     "collapsed": false,
     "input": [
      "import colorsys"
     ],
     "language": "python",
     "metadata": {},
     "outputs": [],
     "prompt_number": 1
    },
    {
     "cell_type": "code",
     "collapsed": false,
     "input": [
      "def chroma_gen(n, as_float=False, s=0.95, v=0.95):\n",
      "    golden_ratio = 0.618033988749895\n",
      "    h_init = 0.84521183465356875\n",
      "    h = (h_init + n*golden_ratio) % 1\n",
      "    rgb_tuple = colorsys.hsv_to_rgb(h,s,v)\n",
      "    if as_float: \n",
      "        return rgb_tuple\n",
      "    else:\n",
      "        return tuple([int(x*255) for x in rgb_tuple])"
     ],
     "language": "python",
     "metadata": {},
     "outputs": [],
     "prompt_number": 2
    },
    {
     "cell_type": "heading",
     "level": 3,
     "metadata": {},
     "source": [
      "Examples:"
     ]
    },
    {
     "cell_type": "code",
     "collapsed": false,
     "input": [
      "map(chroma_gen, range(9))"
     ],
     "language": "python",
     "metadata": {},
     "outputs": [
      {
       "output_type": "pyout",
       "prompt_number": 3,
       "text": [
        "[(242, 12, 225),\n",
        " (12, 242, 191),\n",
        " (242, 124, 12),\n",
        " (57, 12, 242),\n",
        " (34, 242, 12),\n",
        " (242, 12, 101),\n",
        " (12, 168, 242),\n",
        " (235, 242, 12),\n",
        " (181, 12, 242)]"
       ]
      }
     ],
     "prompt_number": 3
    },
    {
     "cell_type": "code",
     "collapsed": false,
     "input": [
      "[chroma_gen(x, as_float=True) for x in range(9)]"
     ],
     "language": "python",
     "metadata": {},
     "outputs": [
      {
       "output_type": "pyout",
       "prompt_number": 4,
       "text": [
        "[(0.95, 0.04750000000000004, 0.8856779153509253),\n",
        " (0.04750000000000004, 0.95, 0.7509761337297562),\n",
        " (0.95, 0.4876301828104372, 0.04750000000000004),\n",
        " (0.22428423189112046, 0.04750000000000004, 0.95),\n",
        " (0.13406171902819866, 0.95, 0.04750000000000004),\n",
        " (0.95, 0.04750000000000004, 0.3974076699475177),\n",
        " (0.04750000000000004, 0.6607536208668368, 0.95),\n",
        " (0.9240995717861559, 0.95, 0.04750000000000004),\n",
        " (0.7125544772945249, 0.04750000000000004, 0.95)]"
       ]
      }
     ],
     "prompt_number": 4
    },
    {
     "cell_type": "code",
     "collapsed": false,
     "input": [],
     "language": "python",
     "metadata": {},
     "outputs": [],
     "prompt_number": 4
    }
   ],
   "metadata": {}
  }
 ]
}